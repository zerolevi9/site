{
  "nbformat": 4,
  "nbformat_minor": 0,
  "metadata": {
    "colab": {
      "name": "Projeto_Integrador.ipynb",
      "provenance": [],
      "collapsed_sections": []
    },
    "kernelspec": {
      "display_name": "Python 3",
      "name": "python3"
    },
    "language_info": {
      "name": "python"
    }
  },
  "cells": [
    {
      "cell_type": "markdown",
      "metadata": {
        "id": "D8-Xd1OwhbZ8"
      },
      "source": [
        "# **Conexão com postgres e Relatórios do Sistema**\n",
        "\n",
        "**Importando bibliotecas de acesso ao postgres, manipulação de dados e gráficos**\n"
      ]
    },
    {
      "cell_type": "code",
      "metadata": {
        "id": "Dxi3FXGuhyQF"
      },
      "source": [
        "import seaborn as sns\n",
        "import matplotlib.pyplot as plt\n",
        "import pandas as pd\n",
        "import psycopg2"
      ],
      "execution_count": null,
      "outputs": []
    },
    {
      "cell_type": "markdown",
      "metadata": {
        "id": "wN4-1fcBijJa"
      },
      "source": [
        "**Usando o psycopg2 para configurar conexão**"
      ]
    },
    {
      "cell_type": "code",
      "metadata": {
        "id": "8ojAEws-j9GI"
      },
      "source": [
        "conn = psycopg2.connect(host = \"kashin.db.elephantsql.com\", database = \"udelhnwy\", user = \"udelhnwy\", password = \"XD1Cbv1phrgq9OmqtFNs_nRGYiIUfWSn\")"
      ],
      "execution_count": null,
      "outputs": []
    },
    {
      "cell_type": "markdown",
      "metadata": {
        "id": "6YxzmJwompPa"
      },
      "source": [
        "\n",
        "# **Relatórios**\n",
        "<br>\n",
        "\n",
        "**Relatório 1**\n",
        "\n",
        "Objetivo: Acessar a lista de usuários, imprimir nick e a idade.\n",
        "<br><br>\n",
        "\n",
        "\n",
        "*Código para obtenção do resultado:*\n"
      ]
    },
    {
      "cell_type": "code",
      "metadata": {
        "colab": {
          "base_uri": "https://localhost:8080/",
          "height": 266
        },
        "id": "6IsVYj4gm0vt",
        "outputId": "4be59040-8a25-4e38-8600-8c4096edfa5c"
      },
      "source": [
        "res = pd.read_sql_query(\"\"\"\n",
        "    SELECT nome, idade FROM usuario order by idade\n",
        "    \"\"\",conn)\n",
        "\n",
        "res"
      ],
      "execution_count": null,
      "outputs": [
        {
          "data": {
            "text/html": [
              "<div>\n",
              "<style scoped>\n",
              "    .dataframe tbody tr th:only-of-type {\n",
              "        vertical-align: middle;\n",
              "    }\n",
              "\n",
              "    .dataframe tbody tr th {\n",
              "        vertical-align: top;\n",
              "    }\n",
              "\n",
              "    .dataframe thead th {\n",
              "        text-align: right;\n",
              "    }\n",
              "</style>\n",
              "<table border=\"1\" class=\"dataframe\">\n",
              "  <thead>\n",
              "    <tr style=\"text-align: right;\">\n",
              "      <th></th>\n",
              "      <th>nome</th>\n",
              "      <th>idade</th>\n",
              "    </tr>\n",
              "  </thead>\n",
              "  <tbody>\n",
              "    <tr>\n",
              "      <th>0</th>\n",
              "      <td>Monark56</td>\n",
              "      <td>14</td>\n",
              "    </tr>\n",
              "    <tr>\n",
              "      <th>1</th>\n",
              "      <td>KimetS2</td>\n",
              "      <td>15</td>\n",
              "    </tr>\n",
              "    <tr>\n",
              "      <th>2</th>\n",
              "      <td>Ash34ley</td>\n",
              "      <td>15</td>\n",
              "    </tr>\n",
              "    <tr>\n",
              "      <th>3</th>\n",
              "      <td>76Aspt</td>\n",
              "      <td>16</td>\n",
              "    </tr>\n",
              "    <tr>\n",
              "      <th>4</th>\n",
              "      <td>Kosh2</td>\n",
              "      <td>17</td>\n",
              "    </tr>\n",
              "    <tr>\n",
              "      <th>5</th>\n",
              "      <td>Goku88</td>\n",
              "      <td>18</td>\n",
              "    </tr>\n",
              "    <tr>\n",
              "      <th>6</th>\n",
              "      <td>Henk32</td>\n",
              "      <td>19</td>\n",
              "    </tr>\n",
              "  </tbody>\n",
              "</table>\n",
              "</div>"
            ],
            "text/plain": [
              "       nome  idade\n",
              "0  Monark56     14\n",
              "1   KimetS2     15\n",
              "2  Ash34ley     15\n",
              "3    76Aspt     16\n",
              "4     Kosh2     17\n",
              "5    Goku88     18\n",
              "6    Henk32     19"
            ]
          },
          "execution_count": 27,
          "metadata": {},
          "output_type": "execute_result"
        }
      ]
    },
    {
      "cell_type": "code",
      "metadata": {
        "colab": {
          "base_uri": "https://localhost:8080/",
          "height": 296
        },
        "id": "O07iUNjuwNot",
        "outputId": "45531cfa-1de0-4221-d242-865cc072a32d"
      },
      "source": [
        "sns.barplot(x = 'nome', y = 'idade', data = res)"
      ],
      "execution_count": null,
      "outputs": [
        {
          "data": {
            "text/plain": [
              "<matplotlib.axes._subplots.AxesSubplot at 0x7f67dc857810>"
            ]
          },
          "execution_count": 28,
          "metadata": {},
          "output_type": "execute_result"
        },
        {
          "data": {
            "image/png": "[encoded data removed]",
            "text/plain": [
              "<Figure size 432x288 with 1 Axes>"
            ]
          },
          "metadata": {},
          "output_type": "display_data"
        }
      ]
    },
    {
      "cell_type": "markdown",
      "metadata": {
        "id": "uzD9UqNiwe7o"
      },
      "source": [
        "<br><br><br><br>\n",
        "\n",
        "**Relatório 2**\n",
        "\n",
        "Objetivo: Acessar a página principal, exibir o conteúdo recomendado e as interações do usuário.\n",
        "<br><br>\n",
        "\n",
        "\n",
        "*Código para obtenção do resultado:*"
      ]
    },
    {
      "cell_type": "code",
      "metadata": {
        "colab": {
          "base_uri": "https://localhost:8080/",
          "height": 173
        },
        "id": "beA1BrL4wtoo",
        "outputId": "76544158-81d3-48d9-a753-69947568c216"
      },
      "source": [
        "res = pd.read_sql_query(\"\"\"\n",
        "    SELECT conteudos, Interacoes FROM home\n",
        "    \"\"\",conn)\n",
        "\n",
        "res"
      ],
      "execution_count": null,
      "outputs": [
        {
          "data": {
            "text/html": [
              "<div>\n",
              "<style scoped>\n",
              "    .dataframe tbody tr th:only-of-type {\n",
              "        vertical-align: middle;\n",
              "    }\n",
              "\n",
              "    .dataframe tbody tr th {\n",
              "        vertical-align: top;\n",
              "    }\n",
              "\n",
              "    .dataframe thead th {\n",
              "        text-align: right;\n",
              "    }\n",
              "</style>\n",
              "<table border=\"1\" class=\"dataframe\">\n",
              "  <thead>\n",
              "    <tr style=\"text-align: right;\">\n",
              "      <th></th>\n",
              "      <th>conteudos</th>\n",
              "      <th>interacoes</th>\n",
              "    </tr>\n",
              "  </thead>\n",
              "  <tbody>\n",
              "    <tr>\n",
              "      <th>0</th>\n",
              "      <td>Bleach, Naruto, One Piece</td>\n",
              "      <td>Augusto, \"e ai cara\"</td>\n",
              "    </tr>\n",
              "    <tr>\n",
              "      <th>1</th>\n",
              "      <td>Boku no hero, Tokio Ghoul</td>\n",
              "      <td>Goku88, \"discordo de vc\"</td>\n",
              "    </tr>\n",
              "    <tr>\n",
              "      <th>2</th>\n",
              "      <td>Naruto, Dragon Ball, Bleach</td>\n",
              "      <td>88Paula, \"tudo bem?\"</td>\n",
              "    </tr>\n",
              "    <tr>\n",
              "      <th>3</th>\n",
              "      <td>Naruto, Tokio Ghoul, Sword Art Online</td>\n",
              "      <td>GABriel, \"desculpa\"</td>\n",
              "    </tr>\n",
              "  </tbody>\n",
              "</table>\n",
              "</div>"
            ],
            "text/plain": [
              "                               conteudos                interacoes\n",
              "0              Bleach, Naruto, One Piece      Augusto, \"e ai cara\"\n",
              "1              Boku no hero, Tokio Ghoul  Goku88, \"discordo de vc\"\n",
              "2            Naruto, Dragon Ball, Bleach      88Paula, \"tudo bem?\"\n",
              "3  Naruto, Tokio Ghoul, Sword Art Online       GABriel, \"desculpa\""
            ]
          },
          "execution_count": 30,
          "metadata": {},
          "output_type": "execute_result"
        }
      ]
    },
    {
      "cell_type": "markdown",
      "metadata": {
        "id": "xWuGrdXk15Ml"
      },
      "source": [
        "<br><br><br><br>\n",
        "\n",
        "**Relatório 3**\n",
        "\n",
        "Objetivo: Exibir o usuário, o comentário feito e interações(apenas exibe se tiver likes).\n",
        "<br><br>\n",
        "\n",
        "\n",
        "*Código para obtenção do resultado:*"
      ]
    },
    {
      "cell_type": "code",
      "metadata": {
        "colab": {
          "base_uri": "https://localhost:8080/",
          "height": 142
        },
        "id": "ijwXL0Fj6eQA",
        "outputId": "a73c744d-cd41-4bba-f9d2-971de4095bf9"
      },
      "source": [
        "res = pd.read_sql_query(\"\"\"\n",
        "    SELECT usuario, texto, likes FROM usercomment where likes > 0 order by likes\n",
        "    \"\"\",conn)\n",
        "\n",
        "res"
      ],
      "execution_count": null,
      "outputs": [
        {
          "data": {
            "text/html": [
              "<div>\n",
              "<style scoped>\n",
              "    .dataframe tbody tr th:only-of-type {\n",
              "        vertical-align: middle;\n",
              "    }\n",
              "\n",
              "    .dataframe tbody tr th {\n",
              "        vertical-align: top;\n",
              "    }\n",
              "\n",
              "    .dataframe thead th {\n",
              "        text-align: right;\n",
              "    }\n",
              "</style>\n",
              "<table border=\"1\" class=\"dataframe\">\n",
              "  <thead>\n",
              "    <tr style=\"text-align: right;\">\n",
              "      <th></th>\n",
              "      <th>usuario</th>\n",
              "      <th>texto</th>\n",
              "      <th>likes</th>\n",
              "    </tr>\n",
              "  </thead>\n",
              "  <tbody>\n",
              "    <tr>\n",
              "      <th>0</th>\n",
              "      <td>Poly776</td>\n",
              "      <td>Tava ansioso pra quando lançasse</td>\n",
              "      <td>1</td>\n",
              "    </tr>\n",
              "    <tr>\n",
              "      <th>1</th>\n",
              "      <td>Mark3</td>\n",
              "      <td>Mais algume vendo em 2021?</td>\n",
              "      <td>7</td>\n",
              "    </tr>\n",
              "    <tr>\n",
              "      <th>2</th>\n",
              "      <td>239842Sat</td>\n",
              "      <td>Qualidade caiu mt</td>\n",
              "      <td>34</td>\n",
              "    </tr>\n",
              "  </tbody>\n",
              "</table>\n",
              "</div>"
            ],
            "text/plain": [
              "     usuario                             texto  likes\n",
              "0    Poly776  Tava ansioso pra quando lançasse      1\n",
              "1      Mark3        Mais algume vendo em 2021?      7\n",
              "2  239842Sat                 Qualidade caiu mt     34"
            ]
          },
          "execution_count": 34,
          "metadata": {},
          "output_type": "execute_result"
        }
      ]
    },
    {
      "cell_type": "code",
      "metadata": {
        "colab": {
          "base_uri": "https://localhost:8080/",
          "height": 296
        },
        "id": "8WVJ6Lys6pT7",
        "outputId": "fc2a7b11-a444-4ce6-c3bf-ee08936d3121"
      },
      "source": [
        "sns.barplot(x = 'usuario', y = 'likes', data = res)"
      ],
      "execution_count": null,
      "outputs": [
        {
          "data": {
            "text/plain": [
              "<matplotlib.axes._subplots.AxesSubplot at 0x7f67dc0b8410>"
            ]
          },
          "execution_count": 37,
          "metadata": {},
          "output_type": "execute_result"
        },
        {
          "data": {
            "image/png": "[encoded data removed]",
            "text/plain": [
              "<Figure size 432x288 with 1 Axes>"
            ]
          },
          "metadata": {},
          "output_type": "display_data"
        }
      ]
    },
    {
      "cell_type": "markdown",
      "metadata": {
        "id": "v9EVAnKP7BXI"
      },
      "source": [
        "<br><br><br><br>\n",
        "\n",
        "**Relatório 4**\n",
        "\n",
        "Objetivo: Mostrar o nome do conteúdo, tipo e classificação.\n",
        "<br><br>\n",
        "\n",
        "\n",
        "*Código para obtenção do resultado:*"
      ]
    },
    {
      "cell_type": "code",
      "metadata": {
        "colab": {
          "base_uri": "https://localhost:8080/",
          "height": 204
        },
        "id": "Ns_LRyCJ7Jd7",
        "outputId": "01d085ec-69e0-4550-bc8e-48d304f8fbcb"
      },
      "source": [
        "res = pd.read_sql_query(\"\"\"\n",
        "    SELECT nome, tipo, Classificacao FROM conteudo\n",
        "    \"\"\",conn)\n",
        "\n",
        "res"
      ],
      "execution_count": null,
      "outputs": [
        {
          "output_type": "execute_result",
          "data": {
            "text/html": [
              "<div>\n",
              "<style scoped>\n",
              "    .dataframe tbody tr th:only-of-type {\n",
              "        vertical-align: middle;\n",
              "    }\n",
              "\n",
              "    .dataframe tbody tr th {\n",
              "        vertical-align: top;\n",
              "    }\n",
              "\n",
              "    .dataframe thead th {\n",
              "        text-align: right;\n",
              "    }\n",
              "</style>\n",
              "<table border=\"1\" class=\"dataframe\">\n",
              "  <thead>\n",
              "    <tr style=\"text-align: right;\">\n",
              "      <th></th>\n",
              "      <th>nome</th>\n",
              "      <th>tipo</th>\n",
              "      <th>classificacao</th>\n",
              "    </tr>\n",
              "  </thead>\n",
              "  <tbody>\n",
              "    <tr>\n",
              "      <th>0</th>\n",
              "      <td>Boku no Hero</td>\n",
              "      <td>FIlme</td>\n",
              "      <td>12</td>\n",
              "    </tr>\n",
              "    <tr>\n",
              "      <th>1</th>\n",
              "      <td>Bleach</td>\n",
              "      <td>Anime</td>\n",
              "      <td>14</td>\n",
              "    </tr>\n",
              "    <tr>\n",
              "      <th>2</th>\n",
              "      <td>Dragon Ball</td>\n",
              "      <td>Live-Action</td>\n",
              "      <td>10</td>\n",
              "    </tr>\n",
              "    <tr>\n",
              "      <th>3</th>\n",
              "      <td>One Piece</td>\n",
              "      <td>Anime</td>\n",
              "      <td>0</td>\n",
              "    </tr>\n",
              "    <tr>\n",
              "      <th>4</th>\n",
              "      <td>Naruto</td>\n",
              "      <td>OVA</td>\n",
              "      <td>0</td>\n",
              "    </tr>\n",
              "  </tbody>\n",
              "</table>\n",
              "</div>"
            ],
            "text/plain": [
              "           nome         tipo  classificacao\n",
              "0  Boku no Hero        FIlme             12\n",
              "1        Bleach        Anime             14\n",
              "2   Dragon Ball  Live-Action             10\n",
              "3     One Piece        Anime              0\n",
              "4        Naruto          OVA              0"
            ]
          },
          "metadata": {},
          "execution_count": 63
        }
      ]
    },
    {
      "cell_type": "code",
      "metadata": {
        "colab": {
          "base_uri": "https://localhost:8080/",
          "height": 296
        },
        "id": "xfpzuLOL7MOj",
        "outputId": "e36815d3-2ab3-464e-8632-03f33e0a6244"
      },
      "source": [
        "sns.barplot(x = 'nome', y = 'classificacao', data = res)"
      ],
      "execution_count": null,
      "outputs": [
        {
          "output_type": "execute_result",
          "data": {
            "text/plain": [
              "<matplotlib.axes._subplots.AxesSubplot at 0x7f67dc004a50>"
            ]
          },
          "metadata": {},
          "execution_count": 64
        },
        {
          "output_type": "display_data",
          "data": {
            "image/png": "[encoded data removed]",
            "text/plain": [
              "<Figure size 432x288 with 1 Axes>"
            ]
          },
          "metadata": {
            "needs_background": "light"
          }
        }
      ]
    },
    {
      "cell_type": "markdown",
      "metadata": {
        "id": "oriVGdQBPXis"
      },
      "source": [
        "<br><br><br><br>\n",
        "\n",
        "**Relatório 5**\n",
        "\n",
        "Objetivo: Exibir as mensagens enviadas pelos usuários, o remetente e se a mensagem foi visualizada.\n",
        "<br><br>\n",
        "\n",
        "\n",
        "*Código para obtenção do resultado(SIstema binário, 1 significa visualizado e 0 não visualizado):*"
      ]
    },
    {
      "cell_type": "code",
      "metadata": {
        "colab": {
          "base_uri": "https://localhost:8080/",
          "height": 173
        },
        "id": "LJjcLb3uPel1",
        "outputId": "deff864b-0ce4-4680-e77f-83663d188b9a"
      },
      "source": [
        "res = pd.read_sql_query(\"\"\"\n",
        "    SELECT Mensagem, Remetente, VIsualizada FROM mensagem;\n",
        "\n",
        "    \"\"\",conn)\n",
        "\n",
        "res"
      ],
      "execution_count": null,
      "outputs": [
        {
          "output_type": "execute_result",
          "data": {
            "text/html": [
              "<div>\n",
              "<style scoped>\n",
              "    .dataframe tbody tr th:only-of-type {\n",
              "        vertical-align: middle;\n",
              "    }\n",
              "\n",
              "    .dataframe tbody tr th {\n",
              "        vertical-align: top;\n",
              "    }\n",
              "\n",
              "    .dataframe thead th {\n",
              "        text-align: right;\n",
              "    }\n",
              "</style>\n",
              "<table border=\"1\" class=\"dataframe\">\n",
              "  <thead>\n",
              "    <tr style=\"text-align: right;\">\n",
              "      <th></th>\n",
              "      <th>mensagem</th>\n",
              "      <th>remetente</th>\n",
              "      <th>visualizada</th>\n",
              "    </tr>\n",
              "  </thead>\n",
              "  <tbody>\n",
              "    <tr>\n",
              "      <th>0</th>\n",
              "      <td>Quer assistir mais tarde?</td>\n",
              "      <td>Alex33</td>\n",
              "      <td>1</td>\n",
              "    </tr>\n",
              "    <tr>\n",
              "      <th>1</th>\n",
              "      <td>Não achei aqui</td>\n",
              "      <td>Party65</td>\n",
              "      <td>0</td>\n",
              "    </tr>\n",
              "    <tr>\n",
              "      <th>2</th>\n",
              "      <td>Talvez mais tarde</td>\n",
              "      <td>GOku88</td>\n",
              "      <td>1</td>\n",
              "    </tr>\n",
              "    <tr>\n",
              "      <th>3</th>\n",
              "      <td>Gostei muito</td>\n",
              "      <td>O33nyx</td>\n",
              "      <td>1</td>\n",
              "    </tr>\n",
              "  </tbody>\n",
              "</table>\n",
              "</div>"
            ],
            "text/plain": [
              "                    mensagem remetente  visualizada\n",
              "0  Quer assistir mais tarde?    Alex33            1\n",
              "1             Não achei aqui   Party65            0\n",
              "2          Talvez mais tarde    GOku88            1\n",
              "3               Gostei muito    O33nyx            1"
            ]
          },
          "metadata": {},
          "execution_count": 70
        }
      ]
    },
    {
      "cell_type": "code",
      "metadata": {
        "colab": {
          "base_uri": "https://localhost:8080/",
          "height": 296
        },
        "id": "BhPkTnD4Pn4s",
        "outputId": "f9c6a708-5d31-4252-bab5-08a927d46f7f"
      },
      "source": [
        "sns.barplot(x = 'remetente', y = 'visualizada', data = res)"
      ],
      "execution_count": null,
      "outputs": [
        {
          "output_type": "execute_result",
          "data": {
            "text/plain": [
              "<matplotlib.axes._subplots.AxesSubplot at 0x7f67dbfe7d10>"
            ]
          },
          "metadata": {},
          "execution_count": 71
        },
        {
          "output_type": "display_data",
          "data": {
            "image/png": "[encoded data removed]",
            "text/plain": [
              "<Figure size 432x288 with 1 Axes>"
            ]
          },
          "metadata": {
            "needs_background": "light"
          }
        }
      ]
    },
    {
      "cell_type": "code",
      "metadata": {
        "id": "qRxgyj5-MtFc"
      },
      "source": [
        "conn.close()"
      ],
      "execution_count": null,
      "outputs": []
    }
  ]
}